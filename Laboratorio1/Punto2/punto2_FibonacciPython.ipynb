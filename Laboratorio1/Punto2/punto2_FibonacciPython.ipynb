{
 "cells": [
  {
   "cell_type": "markdown",
   "metadata": {},
   "source": [
    "# Solución punto 2 laboratorio 1 usando python"
   ]
  },
  {
   "cell_type": "markdown",
   "metadata": {},
   "source": [
    "## En Python los enteros no tiene un límite asociado, entonces no se producirá Overflow para el n-esimo termino de la sucesión; por tanto se ejecuta el programa hasta n = 50"
   ]
  },
  {
   "cell_type": "code",
   "execution_count": 1,
   "metadata": {},
   "outputs": [],
   "source": [
    "import time\n",
    "import matplotlib.pyplot as plt"
   ]
  },
  {
   "cell_type": "code",
   "execution_count": 11,
   "metadata": {},
   "outputs": [],
   "source": [
    "f0 = 0\n",
    "f1 = 1\n",
    "\n",
    "n = 55\n",
    "t0 = 0\n",
    "tf = 0\n",
    "t1 = 0\n",
    "listTime = []"
   ]
  },
  {
   "cell_type": "code",
   "execution_count": 12,
   "metadata": {},
   "outputs": [],
   "source": [
    "for i in range ( 0, n + 1 ):\n",
    "\tt0 = time.clock()\n",
    "\tf1 = f0 + f1\n",
    "\tf0 = f1 - f0\n",
    "\tt1 = time.clock()\n",
    "\ttf = t1 - t0\n",
    "\tlistTime.append( tf )\n",
    "\t"
   ]
  },
  {
   "cell_type": "markdown",
   "metadata": {},
   "source": [
    "# Graficando tiempo de ejecuión para cada n-esimo termino de la sucesión"
   ]
  },
  {
   "cell_type": "code",
   "execution_count": 13,
   "metadata": {},
   "outputs": [
    {
     "data": {
      "image/png": "[encoded data removed]",
      "text/plain": [
       "<matplotlib.figure.Figure at 0xb180b00>"
      ]
     },
     "metadata": {},
     "output_type": "display_data"
    }
   ],
   "source": [
    "sizeArray = range ( n + 1 ) # lista del 0 to 11 \n",
    "casoPromedio = listTime\n",
    "\n",
    "fig = plt.figure()\n",
    "axes = fig.add_subplot( 111 )\n",
    "plt.bar( sizeArray, casoPromedio )\n",
    "plt.ylabel('Tiempo' )\n",
    "plt.xlabel('Tamano n')\n",
    "plt.title( \"n vs time\" )\n",
    "plt.show()"
   ]
  },
  {
   "cell_type": "code",
   "execution_count": null,
   "metadata": {},
   "outputs": [],
   "source": []
  }
 ],
 "metadata": {
  "kernelspec": {
   "display_name": "Python 2",
   "language": "python",
   "name": "python2"
  },
  "language_info": {
   "codemirror_mode": {
    "name": "ipython",
    "version": 2
   },
   "file_extension": ".py",
   "mimetype": "text/x-python",
   "name": "python",
   "nbconvert_exporter": "python",
   "pygments_lexer": "ipython2",
   "version": "2.7.14"
  }
 },
 "nbformat": 4,
 "nbformat_minor": 2
}
