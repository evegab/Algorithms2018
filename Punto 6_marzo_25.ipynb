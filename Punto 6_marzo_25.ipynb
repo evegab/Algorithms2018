{
 "cells": [
  {
   "cell_type": "markdown",
   "metadata": {},
   "source": [
    "# Solución del Punto 6 del Laboratorio 1"
   ]
  },
  {
   "cell_type": "markdown",
   "metadata": {},
   "source": [
    "En las siguientes celdas se implemetatrá el coidigo de ** *`InsertionSort`,* ** para ordenar las permutaciones de tamaño **n**, y de la solución .\n",
    "\n",
    "**Notas:**\n",
    "1. El codigo de InsertionSort fue implementado tal y como está definido en el libro de Cormen....   \n",
    "2. Las permutaciones de generan, tal como se pide:    \n",
    "    2.1 Usando la libreria **`itertools`**     \n",
    "    2.2 Usando el código de **`Daniel Jimenez`** (en java) pero implementado en Python  \n",
    "    2.3 Usando un **`número aleatorio`** de permutaciones\n",
    "\n"
   ]
  },
  {
   "cell_type": "markdown",
   "metadata": {},
   "source": [
    "Librerias que se usaran en la solución: "
   ]
  },
  {
   "cell_type": "code",
   "execution_count": 1,
   "metadata": {},
   "outputs": [],
   "source": [
    "import numpy as np\n",
    "import matplotlib.pyplot as plt\n",
    "import itertools\n",
    "import math \n"
   ]
  },
  {
   "cell_type": "markdown",
   "metadata": {},
   "source": [
    "## InsertionSort()"
   ]
  },
  {
   "cell_type": "code",
   "execution_count": 2,
   "metadata": {},
   "outputs": [],
   "source": [
    "def InsertionSort( A ):\n",
    "\n",
    "\tcomparison = 0 #\n",
    "\texchange = 0 # cuenta el numero de intercambios, por lo menos 1 por cada numero\n",
    "\tinstruction = 0 # cuenta el numero de instrucciones que realiza este algoritmo para cada arreglo de numeros\n",
    "\n",
    "\tfor j in range( 1, len( A ) ):\n",
    "\t\tkey = A[ j ]\n",
    "\t\ti = j - 1\n",
    "\t\tinstruction += 4\n",
    "\t\tcomparison += 2\n",
    "\t\twhile i >= 0 and A[ i ] > key  :\n",
    "\t\t\tA [ i + 1 ] = A [ i ]\n",
    "\t\t\ti -= 1\n",
    "\t\t\tcomparison += 2\n",
    "\t\t\texchange += 1\n",
    "\t\t\tinstruction += 2\n",
    "\t\tA[ i + 1 ] = key\n",
    "\t\texchange += 1\n",
    "\t\tinstruction += 1\n",
    "\n",
    "\treturn [ A, comparison, exchange, instruction ]"
   ]
  },
  {
   "cell_type": "markdown",
   "metadata": {},
   "source": [
    "La siguiente función se usa para calcular el promedio de los elementos de uan lista de enteros, que se usará para pintar las gráficas "
   ]
  },
  {
   "cell_type": "code",
   "execution_count": 3,
   "metadata": {},
   "outputs": [],
   "source": [
    "def promediarLista(lista):\n",
    "\tsum = 0\n",
    "\tfor i in range(0, len(lista)):\n",
    "\t\tsum = sum + lista[i]\n",
    "\n",
    "\treturn   sum / len( lista )"
   ]
  },
  {
   "cell_type": "markdown",
   "metadata": {},
   "source": [
    "## 2.1  *itertools*:\n",
    "\n"
   ]
  },
  {
   "cell_type": "code",
   "execution_count": 4,
   "metadata": {},
   "outputs": [],
   "source": [
    "listComparisonGlobal = [ ]\n",
    "listExchangeGlobal = [ ]\n",
    "listInstructionGlobal = [ ]\n",
    "\n",
    "# with itertools\n",
    "\n",
    "for i in range( 1, 12 ):\n",
    "\tz = i #tamano de la permutacion\n",
    "\tlistComparison = [ ]\n",
    "\tlistExchange = [ ]\n",
    "\tlistInstruction = [ ]\n",
    "\n",
    "\tfor x in itertools.permutations( range( z ), z ) :\n",
    "\t\ty = list ( x ) # each element x is the type 'tuple' THEN inmutable\n",
    "\t\tfinal = InsertionSort( y )\n",
    "\t\t#print final\n",
    "\t\tlistComparison.append( final[ 1 ] )\n",
    "\t\tlistExchange.append( final[ 2 ] )\n",
    "\t\tlistInstruction.append( final[ 3 ] )\n",
    "\n",
    "\n",
    "\tlistComparisonGlobal.append( promediarLista( listComparison ) )\n",
    "\tlistExchangeGlobal.append( promediarLista( listExchange ) )\n",
    "\tlistInstructionGlobal.append( promediarLista( listInstruction ) )\n",
    "\n"
   ]
  },
  {
   "cell_type": "markdown",
   "metadata": {},
   "source": [
    "## Graficando los resultados: "
   ]
  },
  {
   "cell_type": "markdown",
   "metadata": {},
   "source": [
    "### 2.1.1 Promedio de instrucciones "
   ]
  },
  {
   "cell_type": "code",
   "execution_count": 5,
   "metadata": {},
   "outputs": [
    {
     "data": {
      "image/png": "[encoded data removed]",
      "text/plain": [
       "<matplotlib.figure.Figure at 0x8bbada0>"
      ]
     },
     "metadata": {},
     "output_type": "display_data"
    }
   ],
   "source": [
    "sizeArray = range ( 11 ) # lista del 0 to 11 \n",
    "casoPromedio = listInstructionGlobal\n",
    "\n",
    "fig = plt.figure()\n",
    "axes = fig.add_subplot( 111 )\n",
    "plt.bar( sizeArray, casoPromedio )\n",
    "plt.ylabel('# promedio de Instrucciones' )\n",
    "plt.xlabel('Numero de datos')\n",
    "plt.title( \" Instrucciones Promedio\" )\n",
    "plt.show()"
   ]
  },
  {
   "cell_type": "markdown",
   "metadata": {},
   "source": [
    "### 2.1.2 Promedio de comparaciones"
   ]
  },
  {
   "cell_type": "code",
   "execution_count": 6,
   "metadata": {},
   "outputs": [
    {
     "data": {
      "image/png": "[encoded data removed]",
      "text/plain": [
       "<matplotlib.figure.Figure at 0xb921a58>"
      ]
     },
     "metadata": {},
     "output_type": "display_data"
    }
   ],
   "source": [
    "casoPromedio = listComparisonGlobal\n",
    "\n",
    "fig = plt.figure()\n",
    "axes = fig.add_subplot( 111 )\n",
    "plt.bar( sizeArray, casoPromedio )\n",
    "plt.ylabel('# promedio de Comparaciones' )\n",
    "plt.xlabel('Numero de datos')\n",
    "plt.title( \" Comparaciones Promedio\" )\n",
    "plt.show()"
   ]
  },
  {
   "cell_type": "markdown",
   "metadata": {},
   "source": [
    "### 2.1.3 Promedio de Intercambios"
   ]
  },
  {
   "cell_type": "code",
   "execution_count": 7,
   "metadata": {},
   "outputs": [
    {
     "data": {
      "image/png": "[encoded data removed]",
      "text/plain": [
       "<matplotlib.figure.Figure at 0x190b43c8>"
      ]
     },
     "metadata": {},
     "output_type": "display_data"
    }
   ],
   "source": [
    "casoPromedio = listExchangeGlobal\n",
    "\n",
    "fig = plt.figure()\n",
    "axes = fig.add_subplot( 111 )\n",
    "plt.bar( sizeArray, casoPromedio )\n",
    "plt.ylabel('# promedio de Intercambios' )\n",
    "plt.xlabel('Numero de datos')\n",
    "plt.title( \" Intercambios Promedio\" )\n",
    "plt.show()"
   ]
  },
  {
   "cell_type": "markdown",
   "metadata": {},
   "source": [
    "## 2.2 Daniel Jimenez code "
   ]
  },
  {
   "cell_type": "code",
   "execution_count": 8,
   "metadata": {},
   "outputs": [],
   "source": [
    "import numpy as np\n",
    "import matplotlib.pyplot as plt\n",
    "import math \n",
    "import itertools\n",
    "\n",
    "def InsertionSort( A ):\n",
    "\n",
    "\tcomparison = 0 #\n",
    "\texchange = 0 # cuenta el numero de intercambios, por lo menos 1 por cada numero\n",
    "\tinstruction = 0 # cuenta el numero de instrucciones que realiza este algoritmo para cada arreglo de numeros\n",
    "\n",
    "\tfor j in range( 1, len( A ) ):\n",
    "\t\tkey = A[ j ]\n",
    "\t\ti = j - 1\n",
    "\t\tinstruction += 4\n",
    "\t\tcomparison += 2\n",
    "\t\twhile i >= 0 and A[ i ] > key  :\n",
    "\t\t\tA [ i + 1 ] = A [ i ]\n",
    "\t\t\ti -= 1\n",
    "\t\t\tcomparison += 2\n",
    "\t\t\texchange += 1\n",
    "\t\t\tinstruction += 2\n",
    "\t\tA[ i + 1 ] = key\n",
    "\t\texchange += 1\n",
    "\t\tinstruction += 1\n",
    "\n",
    "\treturn [ instruction, comparison, exchange  ]\n",
    "\n",
    "\n",
    "def promediarLista( lista ):\n",
    "\tsum = 0\n",
    "\tfor i in range( 0, len( lista ) ):\n",
    "\t\tsum = sum + lista[ i ]\n",
    "\n",
    "\treturn   sum / len( lista )\n",
    "\n",
    "\n",
    "def swap ( v, i, j ):\n",
    "    t = v[ i ]\n",
    "    v[ i ] = v[ j ]\n",
    "    v[ j ] = t\n",
    "\n",
    "\t\n",
    "def perm(v, i, n):\n",
    "\tGlobalList = [ ]\n",
    "\tcases, j = 0, 0\n",
    "\n",
    "\tif i == n:\n",
    "\t\tlistAux = [ ]\n",
    "\t\tcases += 1\n",
    "\t\tfor j in range( 0, n ):\n",
    "\t\t\tlistAux.append( v[ j ] )\n",
    "\t\t# print  listAux #esta es la permutacion\n",
    "\t\tGlobalList.extend( InsertionSort( listAux ) )\n",
    "\t\tInstructionProm.append( GlobalList[ 0 ] )\n",
    "\t\tComparisonProm.append( GlobalList[ 1 ] )\n",
    "\t\tExchengeProm.append( GlobalList[ 2 ] )\n",
    "\n",
    "\telse:\n",
    "\t\tfor j in range( i, n ):\n",
    "\t\t\tswap( v, i, j )\n",
    "\t\t\tperm( v, i + 1, n )\n",
    "\t\t\tswap( v, i, j )\n",
    "\n",
    "numInstructionProm = [ ]\n",
    "numComparisonProm = [ ]\n",
    "numExchegeProm = [ ]\n",
    "\n",
    "for k in range ( 1,12 ):\n",
    "\tInstructionProm = [ ]\n",
    "\tComparisonProm = [ ]\n",
    "\tExchengeProm = [ ]\n",
    "\n",
    "\tmyList = range( k )\n",
    "\tlist1 = perm ( myList, 0, k )\n",
    "\t\n",
    "\tnumInstructionProm.append( promediarLista( InstructionProm ) )\n",
    "\tnumComparisonProm.append( promediarLista( ComparisonProm ) )\n",
    "\tnumExchegeProm.append( promediarLista( ExchengeProm ) )\n",
    "#print \"InsProm\", numInstructionProm\n",
    "#print \"ComProm\", numComparisonProm\n",
    "#print \"ExgProm\", numExchegeProm\n",
    "\n"
   ]
  },
  {
   "cell_type": "markdown",
   "metadata": {},
   "source": [
    "## Graficando los resultados: "
   ]
  },
  {
   "cell_type": "markdown",
   "metadata": {},
   "source": [
    "### 2.2.1 Promedio de instrucciones "
   ]
  },
  {
   "cell_type": "code",
   "execution_count": 9,
   "metadata": {},
   "outputs": [
    {
     "data": {
      "image/png": "[encoded data removed]",
      "text/plain": [
       "<matplotlib.figure.Figure at 0x9cc4b390>"
      ]
     },
     "metadata": {},
     "output_type": "display_data"
    }
   ],
   "source": [
    "sizeArray = range (11)\n",
    "\n",
    "casoPromedio = numInstructionProm\n",
    "\n",
    "fig = plt.figure()\n",
    "axes = fig.add_subplot( 111 )\n",
    "plt.bar( sizeArray, casoPromedio )\n",
    "plt.ylabel('# promedio de Instrucciones' )\n",
    "plt.xlabel('Numero de datos')\n",
    "plt.title( \" Instrucciones Promedio\" )\n",
    "plt.show()"
   ]
  },
  {
   "cell_type": "markdown",
   "metadata": {},
   "source": [
    "### 2.2.2 Promedio de comparaciones"
   ]
  },
  {
   "cell_type": "code",
   "execution_count": 10,
   "metadata": {},
   "outputs": [
    {
     "data": {
      "image/png": "[encoded data removed]",
      "text/plain": [
       "<matplotlib.figure.Figure at 0xb8c9e80>"
      ]
     },
     "metadata": {},
     "output_type": "display_data"
    }
   ],
   "source": [
    "casoPromedio = numComparisonProm\n",
    "\n",
    "fig = plt.figure()\n",
    "axes = fig.add_subplot( 111 )\n",
    "plt.bar( sizeArray, casoPromedio )\n",
    "plt.ylabel('# promedio de Comparaciones' )\n",
    "plt.xlabel('Numero de datos')\n",
    "plt.title( \" Comparaciones Promedio\" )\n",
    "plt.show()\n"
   ]
  },
  {
   "cell_type": "markdown",
   "metadata": {},
   "source": [
    "### 2.2.3 Promedio de Intercambios"
   ]
  },
  {
   "cell_type": "code",
   "execution_count": 11,
   "metadata": {},
   "outputs": [
    {
     "data": {
      "image/png": "[encoded data removed]",
      "text/plain": [
       "<matplotlib.figure.Figure at 0xbae3400>"
      ]
     },
     "metadata": {},
     "output_type": "display_data"
    }
   ],
   "source": [
    "casoPromedio = numExchegeProm\n",
    "\n",
    "fig = plt.figure()\n",
    "axes = fig.add_subplot( 111 )\n",
    "plt.bar( sizeArray, casoPromedio )\n",
    "plt.ylabel('# promedio de Intercambios' )\n",
    "plt.xlabel('Numero de datos')\n",
    "plt.title( \" Intercambios Promedio\" )\n",
    "plt.show()"
   ]
  },
  {
   "cell_type": "markdown",
   "metadata": {},
   "source": [
    "## 2.3 Número aleatorio de permutaciones"
   ]
  },
  {
   "cell_type": "code",
   "execution_count": 12,
   "metadata": {},
   "outputs": [
    {
     "name": "stdout",
     "output_type": "stream",
     "text": [
      "2\n",
      "cantidad de bubles externos:  2\n",
      "here begin [(0, 1), (1, 0)] 2\n",
      "1\n",
      "y is:  [1, 0]\n",
      "[[0, 1], 4, 2, 7]\n",
      "cantidad de bubles externos:  2\n",
      "here begin [(0, 1), (1, 0)] 2\n",
      "1\n",
      "y is:  [1, 0]\n",
      "[[0, 1], 4, 2, 7]\n",
      "1\n",
      "cantidad de bubles externos:  1\n",
      "here begin [(0, 1, 2), (0, 2, 1), (1, 0, 2), (1, 2, 0), (2, 0, 1), (2, 1, 0)] 6\n",
      "2\n",
      "y is:  [1, 0, 2]\n",
      "[[0, 1, 2], 6, 3, 12]\n",
      "1\n",
      "cantidad de bubles externos:  1\n",
      "here begin [(0, 1, 2, 3), (0, 1, 3, 2), (0, 2, 1, 3), (0, 2, 3, 1), (0, 3, 1, 2), (0, 3, 2, 1), (1, 0, 2, 3), (1, 0, 3, 2), (1, 2, 0, 3), (1, 2, 3, 0), (1, 3, 0, 2), (1, 3, 2, 0), (2, 0, 1, 3), (2, 0, 3, 1), (2, 1, 0, 3), (2, 1, 3, 0), (2, 3, 0, 1), (2, 3, 1, 0), (3, 0, 1, 2), (3, 0, 2, 1), (3, 1, 0, 2), (3, 1, 2, 0), (3, 2, 0, 1), (3, 2, 1, 0)] 24\n",
      "21\n",
      "y is:  [3, 1, 2, 0]\n",
      "[[0, 1, 2, 3], 16, 8, 25]\n",
      "[4, 6, 16]\n",
      "[7, 12, 25]\n",
      "[2, 3, 8]\n"
     ]
    },
    {
     "data": {
      "image/png": "[encoded data removed]",
      "text/plain": [
       "<matplotlib.figure.Figure at 0x9c9cdba8>"
      ]
     },
     "metadata": {},
     "output_type": "display_data"
    },
    {
     "data": {
      "image/png": "[encoded data removed]",
      "text/plain": [
       "<matplotlib.figure.Figure at 0xad67438>"
      ]
     },
     "metadata": {},
     "output_type": "display_data"
    },
    {
     "data": {
      "image/png": "[encoded data removed]",
      "text/plain": [
       "<matplotlib.figure.Figure at 0x997102b0>"
      ]
     },
     "metadata": {},
     "output_type": "display_data"
    }
   ],
   "source": [
    "  # -*- coding: utf-8 -*-\n",
    "\"\"\"\n",
    "Created on Sat Mar 24 18:18:15 2018\n",
    "\n",
    "@author: USER\n",
    "\"\"\"\n",
    "\n",
    "import numpy as np\n",
    "import matplotlib.pyplot as plt\n",
    "import itertools\n",
    "import math \n",
    "from random import randint\n",
    "\n",
    "def InsertionSort( A ):\n",
    "\n",
    "\tcomparison = 0 #\n",
    "\texchange = 0 # cuenta el numero de intercambios, por lo menos 1 por cada numero\n",
    "\tinstruction = 0 # cuenta el numero de instrucciones que realiza este algoritmo para cada arreglo de numeros\n",
    "\n",
    "\tfor j in range( 1, len( A ) ):\n",
    "\t\tkey = A[ j ]\n",
    "\t\ti = j - 1\n",
    "\t\tinstruction += 4\n",
    "\t\tcomparison += 2\n",
    "\t\twhile i >= 0 and A[ i ] > key  :\n",
    "\t\t\tA [ i + 1 ] = A [ i ]\n",
    "\t\t\ti -= 1\n",
    "\t\t\tcomparison += 2\n",
    "\t\t\texchange += 1\n",
    "\t\t\tinstruction += 2\n",
    "\t\tA[ i + 1 ] = key\n",
    "\t\texchange += 1\n",
    "\t\tinstruction += 1\n",
    "\n",
    "\treturn [ A, comparison, exchange, instruction ]\n",
    "\n",
    "def promediarLista(lista):\n",
    "\tsum = 0\n",
    "\tfor i in range(0, len(lista)):\n",
    "\t\tsum = sum + lista[i]\n",
    "\n",
    "\treturn   sum / len( lista )\n",
    "\n",
    "listComparisonGlobal = [ ]\n",
    "listExchangeGlobal = [ ]\n",
    "listInstructionGlobal = [ ]\n",
    "\n",
    "# with itertools\n",
    "n = 5 \n",
    "for i in range( 2, n ): #para cada permutacion de tamaño n \n",
    "\tz = i #tamano de la permutacion\n",
    "\tlistComparison = [ ]\n",
    "\tlistExchange = [ ]\n",
    "\tlistInstruction = [ ]\n",
    "\t\n",
    "\tsizeRandom = randint( 1, i )\n",
    "\tprint sizeRandom\n",
    "\tm = list( itertools.permutations( range( z ), z ) )\n",
    "\n",
    "\tfor x in range ( 1, sizeRandom + 1 ) :\n",
    "\t\tprint \"cantidad de bubles externos: \", sizeRandom\n",
    " \n",
    "\t\tprint \"here begin\", m, len(m)\n",
    "\t\trandom2 = randint( 0, len( m ) )\n",
    "\t\tprint random2\n",
    "\t\ty = list ( list( m[ random2 ] ) ) # each element x is the type 'tuple' THEN inmutable\n",
    "\t\tprint \"y is: \", y\n",
    "\t\tfinal = InsertionSort( y )\n",
    "\t\tprint final\n",
    "\n",
    "\n",
    "\t\tlistComparison.append( final[ 1 ] )\n",
    "\t\tlistExchange.append( final[ 2 ] )\n",
    "\t\tlistInstruction.append( final[ 3 ] )\n",
    "\n",
    "\n",
    "\tlistComparisonGlobal.append( promediarLista( listComparison ) )\n",
    "\tlistExchangeGlobal.append( promediarLista( listExchange ) )\n",
    "\tlistInstructionGlobal.append( promediarLista( listInstruction ) )\n",
    "\n",
    "print listComparisonGlobal\n",
    "print listInstructionGlobal\n",
    "print listExchangeGlobal\n",
    "\n",
    "sizeArray = range ( 1,4 ) # lista del 0 to 4 \n",
    "casoPromedio = listInstructionGlobal\n",
    "\n",
    "fig = plt.figure()\n",
    "axes = fig.add_subplot( 111 )\n",
    "plt.bar( sizeArray, casoPromedio )\n",
    "plt.ylabel('# promedio de Instrucciones' )\n",
    "plt.xlabel('Numero de datos')\n",
    "plt.title( \" Instrucciones Promedio\" )\n",
    "plt.show()\n",
    "\n",
    "\n",
    "casoPromedio = listComparisonGlobal\n",
    "\n",
    "fig = plt.figure()\n",
    "axes = fig.add_subplot( 111 )\n",
    "plt.bar( sizeArray, casoPromedio )\n",
    "plt.ylabel('# promedio de Comparaciones' )\n",
    "plt.xlabel('Numero de datos')\n",
    "plt.title( \" Comparaciones Promedio\" )\n",
    "plt.show()\n",
    "\n",
    "casoPromedio = listExchangeGlobal\n",
    "\n",
    "fig = plt.figure()\n",
    "axes = fig.add_subplot( 111 )\n",
    "plt.bar( sizeArray, casoPromedio )\n",
    "plt.ylabel('# promedio de Intercambios' )\n",
    "plt.xlabel('Numero de datos')\n",
    "plt.title( \" Intercambios Promedio\" )\n",
    "plt.show()"
   ]
  },
  {
   "cell_type": "markdown",
   "metadata": {},
   "source": [
    "## Graficando los resultados: "
   ]
  },
  {
   "cell_type": "code",
   "execution_count": null,
   "metadata": {},
   "outputs": [],
   "source": []
  }
 ],
 "metadata": {
  "kernelspec": {
   "display_name": "Python 2",
   "language": "python",
   "name": "python2"
  },
  "language_info": {
   "codemirror_mode": {
    "name": "ipython",
    "version": 2
   },
   "file_extension": ".py",
   "mimetype": "text/x-python",
   "name": "python",
   "nbconvert_exporter": "python",
   "pygments_lexer": "ipython2",
   "version": "2.7.14"
  }
 },
 "nbformat": 4,
 "nbformat_minor": 2
}
