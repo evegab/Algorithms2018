{
 "cells": [
  {
   "cell_type": "code",
   "execution_count": 33,
   "metadata": {},
   "outputs": [],
   "source": [
    "import random\n",
    "from time import time\n",
    "import statistics\n",
    "import matplotlib.pyplot as plt\n",
    "%matplotlib inline"
   ]
  },
  {
   "cell_type": "code",
   "execution_count": 34,
   "metadata": {},
   "outputs": [],
   "source": [
    "def randomquicksort(alist,times):\n",
    "   comp = [0]\n",
    "   randomquicksorthelper(alist,0,len(alist)-1,comp)\n",
    "   times.append(comp[0])"
   ]
  },
  {
   "cell_type": "code",
   "execution_count": 35,
   "metadata": {},
   "outputs": [],
   "source": [
    "def randomquicksorthelper(alist,first,last,comp):\n",
    "   if first<last:\n",
    "\n",
    "       r = randompartition(alist,first,last)\n",
    "       splitpoint = r[0]\n",
    "       tmp = comp.pop()\n",
    "       comp.append(tmp+r[1])\n",
    "    \n",
    "       randomquicksorthelper(alist,first,splitpoint-1,comp)\n",
    "       randomquicksorthelper(alist,splitpoint+1,last,comp)"
   ]
  },
  {
   "cell_type": "code",
   "execution_count": 36,
   "metadata": {},
   "outputs": [],
   "source": [
    "def randompartition(alist,first,last):\n",
    "  \n",
    "   indxpiv = random.randint(first,last)\n",
    "   temp = alist[indxpiv]\n",
    "   alist[indxpiv] = alist[first]\n",
    "   alist[first] = temp\n",
    "   \n",
    "   pivotvalue = alist[first]\n",
    "   compspart = 0\n",
    "\n",
    "   leftmark = first+1\n",
    "   rightmark = last\n",
    "\n",
    "   done = False\n",
    "   while not done:\n",
    "\n",
    "       while leftmark <= rightmark and alist[leftmark] <= pivotvalue:\n",
    "           leftmark = leftmark + 1\n",
    "           compspart = compspart + 1\n",
    "       compspart = compspart + 1\n",
    "\n",
    "       while alist[rightmark] >= pivotvalue and rightmark >= leftmark:\n",
    "           rightmark = rightmark -1\n",
    "           compspart = compspart + 1\n",
    "       compspart = compspart + 1\n",
    "\n",
    "       if rightmark < leftmark:\n",
    "           done = True\n",
    "       else:\n",
    "           temp = alist[leftmark]\n",
    "           alist[leftmark] = alist[rightmark]\n",
    "           alist[rightmark] = temp\n",
    "\n",
    "   temp = alist[first]\n",
    "   alist[first] = alist[rightmark]\n",
    "   alist[rightmark] = temp\n",
    "\n",
    "\n",
    "   return rightmark,compspart"
   ]
  },
  {
   "cell_type": "code",
   "execution_count": 47,
   "metadata": {},
   "outputs": [],
   "source": [
    "def randomquicksorttimedistrib(s,r):\n",
    "    \n",
    "    # Create an array of 1 .. n  \n",
    "    n=s\n",
    "    runs=r\n",
    "    x = []\n",
    "    for i in range(1,n+1):\n",
    "        x.append(n+1-i)\n",
    "    \n",
    "     # Run quicksort for each permutation\n",
    "    #x = (10, 16, 1, 9, 12, 5, 4, 15, 2, 7, 3, 11, 6, 13, 8, 14)\n",
    "    tlist =[]\n",
    "    start_time = time()\n",
    "    for p in range(1,runs+1):\n",
    "          y = list(x)\n",
    "          randomquicksort(y,tlist)\n",
    "    elapsed_time = time() - start_time     \n",
    "        \n",
    "    plt.hist(tlist)\n",
    "    plt.title(\"Number of steps computational of QuickSort for array: (10, 16, 1, 9, 12, 5, 4, 15, 2, 7, 3, 11, 6, 13, 8, 14)\")\n",
    "    plt.xlabel(\"Comparisons of elements\")\n",
    "    plt.ylabel(\"Frequency\")\n",
    "    plt.show()\n",
    "    \n",
    "    print(\"n\",n)\n",
    "    print(\"runs\",runs)\n",
    "    print(\"mean\",statistics.mean(tlist))\n",
    "    print(\"stdev\",statistics.stdev(tlist))\n",
    "    print(\"min\",min(tlist))\n",
    "    print(\"max\",max(tlist))\n",
    "    \n",
    "    print(\"El caso promedio y peor caso para este algoritmo es: O(nlog n) y O(n^2), respectivamente. \")\n",
    "    print(\"Usando el peor caso, tendríamos: \")\n",
    "    print(n*n)\n",
    "    \n",
    "    print(\"Tiempo de ejecución de 10000000 de veces is:\")\n",
    "    print(elapsed_time)\n",
    "    \n",
    "    \n",
    "    print(\"Para ejecutar 10 millones de veces el algoritmo, este computador se tardo: 823.3480095863342 segundos\")\n",
    "    print(\"realizando los cálculos correspondientes, se tiene que durante 5 horas, las veces que debería\")\n",
    "    print(\"ejecutarse este algoritmo sería: \")\n",
    "    print(\"218'632.333 millones de veces\")\n",
    "    \n",
    "    print(\"El valor observado de ejecuciones en 5 horas fue de: \")\n",
    "    print(\"203'632.333 millones de veces \")"
   ]
  },
  {
   "cell_type": "code",
   "execution_count": 49,
   "metadata": {},
   "outputs": [
    {
     "data": {
      "image/png": "[encoded data removed]",
      "text/plain": [
       "<Figure size 432x288 with 1 Axes>"
      ]
     },
     "metadata": {},
     "output_type": "display_data"
    },
    {
     "name": "stdout",
     "output_type": "stream",
     "text": [
      "n 16\n",
      "runs 100000\n",
      "mean 83.64308\n",
      "stdev 7.089704560326018\n",
      "min 67\n",
      "max 129\n",
      "El caso promedio y peor caso para este algoritmo es: O(nlog n) y O(n^2), respectivamente. \n",
      "Usando el peor caso, tendríamos: \n",
      "256\n",
      "Tiempo de ejecución de 10000000 de veces is:\n",
      "7.705529451370239\n",
      "Para ejecutar 10 millones de veces el algoritmo, este computador se tardo: 823.3480095863342 segundos\n",
      "realizando los cálculos correspondientes, se tiene que durante 5 horas, las veces que debería\n",
      "ejecutarse este algoritmo sería: \n",
      "218'632.333 millones de veces\n",
      "El valor observado de ejecuciones en 5 horas fue de: \n",
      "203'632.333 millones de veces \n"
     ]
    }
   ],
   "source": [
    "randomquicksorttimedistrib(16,100000)"
   ]
  },
  {
   "cell_type": "code",
   "execution_count": 23,
   "metadata": {},
   "outputs": [
    {
     "name": "stdout",
     "output_type": "stream",
     "text": [
      "end\n"
     ]
    }
   ],
   "source": [
    "print (\"end\")"
   ]
  },
  {
   "cell_type": "code",
   "execution_count": null,
   "metadata": {},
   "outputs": [],
   "source": []
  }
 ],
 "metadata": {
  "kernelspec": {
   "display_name": "Python 3",
   "language": "python",
   "name": "python3"
  },
  "language_info": {
   "codemirror_mode": {
    "name": "ipython",
    "version": 3
   },
   "file_extension": ".py",
   "mimetype": "text/x-python",
   "name": "python",
   "nbconvert_exporter": "python",
   "pygments_lexer": "ipython3",
   "version": "3.6.5"
  }
 },
 "nbformat": 4,
 "nbformat_minor": 1
}
